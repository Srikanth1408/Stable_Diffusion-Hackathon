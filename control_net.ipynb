{
 "cells": [
  {
   "cell_type": "code",
   "execution_count": null,
   "metadata": {},
   "outputs": [],
   "source": [
    "export MODEL_DIR=\"runwayml/stable-diffusion-v1-5\"\n",
    "export OUTPUT_DIR=\"path to save model\"\n",
    "\n",
    "accelerate launch train_controlnet.py \\\n",
    " --pretrained_model_name_or_path=$MODEL_DIR \\\n",
    " --output_dir=$OUTPUT_DIR \\\n",
    " --dataset_name=fusing/fill50k \\\n",
    " --resolution=512 \\\n",
    " --learning_rate=1e-5 \\\n",
    " --validation_image \"./conditioning_image_1.png\" \"./conditioning_image_2.png\" \\\n",
    " --validation_prompt \"red circle with blue background\" \"cyan circle with brown floral background\" \\\n",
    " --train_batch_size=4"
   ]
  }
 ],
 "metadata": {
  "kernelspec": {
   "display_name": "sd",
   "language": "python",
   "name": "python3"
  },
  "language_info": {
   "name": "python",
   "version": "3.12.0"
  }
 },
 "nbformat": 4,
 "nbformat_minor": 2
}
